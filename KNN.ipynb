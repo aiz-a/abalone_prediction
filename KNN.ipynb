{
 "cells": [
  {
   "cell_type": "code",
   "execution_count": 173,
   "id": "cd70d7c3",
   "metadata": {
    "executionInfo": {
     "elapsed": 607,
     "status": "ok",
     "timestamp": 1716720550166,
     "user": {
      "displayName": "Muhammad Salman",
      "userId": "00185828971597683762"
     },
     "user_tz": -300
    },
    "id": "cd70d7c3"
   },
   "outputs": [],
   "source": [
    "#Predicting age of Abalone (kind of snails) from rings\n",
    "import pandas as pd\n",
    "url = (\"https://archive.ics.uci.edu/ml/machine-learning-databases/abalone/abalone.data\")\n",
    "abalone = pd.read_csv(url, header=None)\n"
   ]
  },
  {
   "cell_type": "code",
   "execution_count": 174,
   "id": "10fe085d",
   "metadata": {
    "colab": {
     "base_uri": "https://localhost:8080/"
    },
    "executionInfo": {
     "elapsed": 10,
     "status": "ok",
     "timestamp": 1716720554075,
     "user": {
      "displayName": "Muhammad Salman",
      "userId": "00185828971597683762"
     },
     "user_tz": -300
    },
    "id": "10fe085d",
    "outputId": "b1bc40b6-1b58-40b0-ee98-f2f312f5e2e0"
   },
   "outputs": [
    {
     "name": "stdout",
     "output_type": "stream",
     "text": [
      "  Sex  Length  Diameter  Height  Whole weight  Shucked weight  Viscera weight  \\\n",
      "0   M   0.455     0.365   0.095        0.5140          0.2245          0.1010   \n",
      "1   M   0.350     0.265   0.090        0.2255          0.0995          0.0485   \n",
      "2   F   0.530     0.420   0.135        0.6770          0.2565          0.1415   \n",
      "3   M   0.440     0.365   0.125        0.5160          0.2155          0.1140   \n",
      "4   I   0.330     0.255   0.080        0.2050          0.0895          0.0395   \n",
      "\n",
      "   Shell weight  Rings  \n",
      "0         0.150     15  \n",
      "1         0.070      7  \n",
      "2         0.210      9  \n",
      "3         0.155     10  \n",
      "4         0.055      7  \n",
      "------------------------------------------------------------\n",
      "     Sex  Length  Diameter  Height  Whole weight  Shucked weight  \\\n",
      "4172   F   0.565     0.450   0.165        0.8870          0.3700   \n",
      "4173   M   0.590     0.440   0.135        0.9660          0.4390   \n",
      "4174   M   0.600     0.475   0.205        1.1760          0.5255   \n",
      "4175   F   0.625     0.485   0.150        1.0945          0.5310   \n",
      "4176   M   0.710     0.555   0.195        1.9485          0.9455   \n",
      "\n",
      "      Viscera weight  Shell weight  Rings  \n",
      "4172          0.2390        0.2490     11  \n",
      "4173          0.2145        0.2605     10  \n",
      "4174          0.2875        0.3080      9  \n",
      "4175          0.2610        0.2960     10  \n",
      "4176          0.3765        0.4950     12  \n"
     ]
    }
   ],
   "source": [
    "#Assigning names to columns\n",
    "abalone.columns = [\"Sex\", \"Length\", \"Diameter\", \"Height\", \"Whole weight\", \"Shucked weight\", \"Viscera weight\", \"Shell weight\", \"Rings\" ]\n",
    "print(abalone.head())\n",
    "print('------------------------------------------------------------')\n",
    "print(abalone.tail())"
   ]
  },
  {
   "cell_type": "code",
   "execution_count": 175,
   "id": "afda99cd",
   "metadata": {},
   "outputs": [
    {
     "name": "stdout",
     "output_type": "stream",
     "text": [
      "0.3344\n"
     ]
    }
   ],
   "source": [
    "import numpy as np\n",
    "from scipy.stats import mode\n",
    "import pandas as pd\n",
    "from collections import Counter\n",
    "import scipy.stats\n",
    "def find_mode(arr):\n",
    "    counter = Counter(arr)\n",
    "    mode_value = counter.most_common(1)[0][0]\n",
    "    return int(mode_value)\n",
    "\n",
    "abalone = abalone.drop(\"Sex\", axis=1)\n",
    "\n",
    "trainingSet=abalone[0:2923]\n",
    "trainingSetY = trainingSet[\"Rings\"]\n",
    "trainingSetX = trainingSet.drop(\"Rings\", axis=1)\n",
    "trainingSetX = trainingSetX.values\n",
    "\n",
    "\n",
    "validationSet=abalone[2924:3549]\n",
    "validationSetY = validationSet[\"Rings\"]\n",
    "validationSetY.reset_index(drop=True, inplace=True)\n",
    "validationSetX = validationSet.drop(\"Rings\", axis=1)\n",
    "validationSetX = validationSetX.values\n",
    "\n",
    "\n",
    "testSet=abalone[3549:4176]\n",
    "TestingSetY = testSet[\"Rings\"]\n",
    "TestingSetY.reset_index(drop=True, inplace=True)\n",
    "TestingSetX = testSet.drop(\"Rings\", axis=1)\n",
    "TestingSetX = TestingSetX.values\n",
    "\n",
    "\n",
    "\n",
    "new_data_point = TestingSetX[0]\n",
    "correct=0\n",
    "wrong=0\n",
    "k=81\n",
    "\n",
    "for index,testSample in enumerate(TestingSetX):\n",
    "    new_data_point=testSample\n",
    "    \n",
    "    distances = np.linalg.norm(trainingSetX - new_data_point, axis=1)\n",
    "    nearest_neighbor_ids = distances.argsort()[:k]\n",
    "    nearest_neighbor_rings = trainingSetY[nearest_neighbor_ids]\n",
    "    \n",
    "    prediction = find_mode(nearest_neighbor_rings)\n",
    "    \n",
    "    if(prediction==TestingSetY[index]):\n",
    "        correct+=1\n",
    "       \n",
    "    else:\n",
    "        wrong=wrong+1\n",
    "        \n",
    "accuracy=(correct/625)\n",
    "\n",
    "print(accuracy)\n",
    "\n",
    "\n",
    "\n",
    "    "
   ]
  },
  {
   "cell_type": "code",
   "execution_count": null,
   "id": "128ab258",
   "metadata": {
    "colab": {
     "base_uri": "https://localhost:8080/",
     "height": 578
    },
    "executionInfo": {
     "elapsed": 643,
     "status": "ok",
     "timestamp": 1716720601026,
     "user": {
      "displayName": "Muhammad Salman",
      "userId": "00185828971597683762"
     },
     "user_tz": -300
    },
    "id": "128ab258",
    "outputId": "52173618-dacc-4b41-c5b9-78b9c552b645"
   },
   "outputs": [],
   "source": [
    "#Finding details about the dataset\n",
    "abalone.info()\n",
    "abalone.describe()"
   ]
  },
  {
   "cell_type": "code",
   "execution_count": null,
   "id": "47a8c1ad",
   "metadata": {},
   "outputs": [],
   "source": []
  },
  {
   "cell_type": "code",
   "execution_count": 10,
   "id": "4f70ffa7",
   "metadata": {
    "executionInfo": {
     "elapsed": 718,
     "status": "ok",
     "timestamp": 1716720630577,
     "user": {
      "displayName": "Muhammad Salman",
      "userId": "00185828971597683762"
     },
     "user_tz": -300
    },
    "id": "4f70ffa7"
   },
   "outputs": [],
   "source": [
    "#Dropping sex column as it is non-numeric and irrelavant\n",
    "abalone = abalone.drop(\"Sex\", axis=1)"
   ]
  },
  {
   "cell_type": "code",
   "execution_count": 11,
   "id": "a16fccd6",
   "metadata": {
    "colab": {
     "base_uri": "https://localhost:8080/"
    },
    "executionInfo": {
     "elapsed": 9,
     "status": "ok",
     "timestamp": 1716720631918,
     "user": {
      "displayName": "Muhammad Salman",
      "userId": "00185828971597683762"
     },
     "user_tz": -300
    },
    "id": "a16fccd6",
    "outputId": "769f8854-c774-47d9-f896-006f74fd62c6"
   },
   "outputs": [
    {
     "data": {
      "text/plain": [
       "29"
      ]
     },
     "execution_count": 11,
     "metadata": {},
     "output_type": "execute_result"
    }
   ],
   "source": [
    "#Range of the Ring Column\n",
    "abalone[\"Rings\"].min()\n",
    "abalone[\"Rings\"].max()"
   ]
  },
  {
   "cell_type": "code",
   "execution_count": 12,
   "id": "e44abec3",
   "metadata": {
    "executionInfo": {
     "elapsed": 574,
     "status": "ok",
     "timestamp": 1716720229863,
     "user": {
      "displayName": "Muhammad Salman",
      "userId": "00185828971597683762"
     },
     "user_tz": -300
    },
    "id": "e44abec3"
   },
   "outputs": [],
   "source": [
    "#Making input matrix X and output vector y. Note: .values convert pandas dataframe to NumPy array\n",
    "X = abalone.drop(\"Rings\", axis=1)\n",
    "X = X.values\n",
    "y = abalone[\"Rings\"]\n",
    "y = y.values"
   ]
  },
  {
   "cell_type": "code",
   "execution_count": 13,
   "id": "bd7bbdb8",
   "metadata": {
    "executionInfo": {
     "elapsed": 6,
     "status": "ok",
     "timestamp": 1716720231609,
     "user": {
      "displayName": "Muhammad Salman",
      "userId": "00185828971597683762"
     },
     "user_tz": -300
    },
    "id": "bd7bbdb8"
   },
   "outputs": [],
   "source": [
    "#Making Test sample\n",
    "import numpy as np\n",
    "new_data_point = np.array([0.569552, 0.446407, 0.154437, 1.016849, 0.439051, 0.222526, 0.291208])"
   ]
  },
  {
   "cell_type": "code",
   "execution_count": 14,
   "id": "94e6d218",
   "metadata": {
    "executionInfo": {
     "elapsed": 4,
     "status": "ok",
     "timestamp": 1716720873248,
     "user": {
      "displayName": "Muhammad Salman",
      "userId": "00185828971597683762"
     },
     "user_tz": -300
    },
    "id": "94e6d218"
   },
   "outputs": [],
   "source": [
    "#Find Euclidean distance between test sample and all training samples\n",
    "distances = np.linalg.norm(X - new_data_point, axis=1)\n",
    "#print(distances)"
   ]
  },
  {
   "cell_type": "code",
   "execution_count": 15,
   "id": "ae52ec31",
   "metadata": {
    "colab": {
     "base_uri": "https://localhost:8080/"
    },
    "executionInfo": {
     "elapsed": 10,
     "status": "ok",
     "timestamp": 1716720885850,
     "user": {
      "displayName": "Muhammad Salman",
      "userId": "00185828971597683762"
     },
     "user_tz": -300
    },
    "id": "ae52ec31",
    "outputId": "e96af897-0ea5-4331-8c8d-91e2b819eaaa"
   },
   "outputs": [
    {
     "data": {
      "text/plain": [
       "array([4045, 1902, 1644, 1132, 1894, 3915, 3668,  399, 1485,  849,  483,\n",
       "         75,  489, 3776, 3667, 3981, 3675, 1136, 1792, 3859, 2990,  182,\n",
       "       4088, 1671, 3673, 3670, 2992, 4161, 3821, 2289, 4160,  412, 2841,\n",
       "       2032, 3611, 3491, 1365, 2304, 3041,  497, 3415, 3194, 3048, 2523,\n",
       "       1486, 2839,  982, 2671, 1649,  311, 2925, 1655, 3288, 1002,  431,\n",
       "       3417, 2922, 3282,  339, 1166, 1901,  993, 1369, 1355,  852, 1342,\n",
       "       2921, 3340,  721, 2773, 1676, 3881, 2780,  577, 2395, 2192, 4173,\n",
       "       2363, 1353, 2595,  425, 1668, 1495,  992, 3146, 2130, 2105, 2836,\n",
       "       3735,  461, 2781, 2908, 4006,  183, 3499, 2919,   30, 1604, 2910,\n",
       "       1922], dtype=int64)"
      ]
     },
     "execution_count": 15,
     "metadata": {},
     "output_type": "execute_result"
    }
   ],
   "source": [
    "#Sorting and getting top k neighbors. Please note that k is assumed to be sqrt(n)\n",
    "k = 100\n",
    "nearest_neighbor_ids = distances.argsort()[:k]\n",
    "nearest_neighbor_ids"
   ]
  },
  {
   "cell_type": "code",
   "execution_count": 16,
   "id": "08947f01",
   "metadata": {
    "colab": {
     "base_uri": "https://localhost:8080/"
    },
    "executionInfo": {
     "elapsed": 599,
     "status": "ok",
     "timestamp": 1716720903160,
     "user": {
      "displayName": "Muhammad Salman",
      "userId": "00185828971597683762"
     },
     "user_tz": -300
    },
    "id": "08947f01",
    "outputId": "b8643147-5313-499f-9a86-dac597faaf49"
   },
   "outputs": [
    {
     "data": {
      "text/plain": [
       "array([ 9, 11, 10,  9, 11, 11, 10, 11,  8, 10, 19, 15, 14, 13, 11,  8, 10,\n",
       "        7,  9,  9,  9, 10,  9,  9, 10,  8,  8, 11, 10, 10, 11, 11,  9, 12,\n",
       "       10,  8, 10, 11,  9, 19,  9, 12,  8,  9,  9, 10,  9,  8, 10, 14, 10,\n",
       "        8, 15,  9, 20,  9, 11, 13, 15,  9, 10, 10, 10, 11, 10, 10,  9, 17,\n",
       "       13, 11, 10, 10, 10, 10, 14, 14, 10, 18, 11, 11, 13, 10,  8,  8, 14,\n",
       "        9, 10,  9,  9, 12, 10,  9,  9, 10,  9, 10, 10, 10, 11,  8],\n",
       "      dtype=int64)"
      ]
     },
     "execution_count": 16,
     "metadata": {},
     "output_type": "execute_result"
    }
   ],
   "source": [
    "#Getting Rings values of nearest nieghbors\n",
    "nearest_neighbor_rings = y[nearest_neighbor_ids]\n",
    "nearest_neighbor_rings"
   ]
  },
  {
   "cell_type": "code",
   "execution_count": 62,
   "id": "75a71545",
   "metadata": {
    "colab": {
     "base_uri": "https://localhost:8080/"
    },
    "executionInfo": {
     "elapsed": 714,
     "status": "ok",
     "timestamp": 1716720912570,
     "user": {
      "displayName": "Muhammad Salman",
      "userId": "00185828971597683762"
     },
     "user_tz": -300
    },
    "id": "75a71545",
    "outputId": "fed4b731-1081-44cc-c870-8625b8ff41cc"
   },
   "outputs": [
    {
     "name": "stdout",
     "output_type": "stream",
     "text": [
      "<class 'scipy.stats._stats_py.ModeResult'>\n"
     ]
    }
   ],
   "source": [
    "#Finding most frequent class in neighbors\n",
    "import scipy.stats\n",
    "prediction = scipy.stats.mode(nearest_neighbor_rings)\n",
    "print(type(prediction))"
   ]
  },
  {
   "cell_type": "code",
   "execution_count": null,
   "id": "94a1021a",
   "metadata": {},
   "outputs": [],
   "source": []
  },
  {
   "cell_type": "code",
   "execution_count": null,
   "id": "44a4bcfd",
   "metadata": {},
   "outputs": [],
   "source": []
  }
 ],
 "metadata": {
  "colab": {
   "provenance": []
  },
  "kernelspec": {
   "display_name": "Python 3 (ipykernel)",
   "language": "python",
   "name": "python3"
  },
  "language_info": {
   "codemirror_mode": {
    "name": "ipython",
    "version": 3
   },
   "file_extension": ".py",
   "mimetype": "text/x-python",
   "name": "python",
   "nbconvert_exporter": "python",
   "pygments_lexer": "ipython3",
   "version": "3.11.5"
  }
 },
 "nbformat": 4,
 "nbformat_minor": 5
}
